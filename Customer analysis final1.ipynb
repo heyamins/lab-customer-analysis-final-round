{
 "cells": [
  {
   "cell_type": "markdown",
   "id": "d1007255",
   "metadata": {},
   "source": [
    "### previously I had problem with index mismatch, after Removing outliers\n",
    "### I am trying to fix it and get better results as final."
   ]
  },
  {
   "cell_type": "code",
   "execution_count": 3,
   "id": "17a8be9b",
   "metadata": {},
   "outputs": [],
   "source": [
    "import pandas as pd\n",
    "import numpy as np\n",
    "from sklearn.linear_model import LinearRegression\n",
    "from sklearn.model_selection import train_test_split\n",
    "from sklearn.preprocessing import StandardScaler\n",
    "from sklearn.metrics import mean_squared_error, mean_absolute_error, r2_score\n",
    "\n",
    "# Load the dataset\n",
    "df = pd.read_csv('./files_for_lab/csv_files/marketing_customer_analysis.csv')\n",
    "\n",
    "# Making a copy of the dataset for manipulation\n",
    "df1 = df.copy()\n",
    "\n",
    "# Removing outliers from specific columns\n",
    "def remove_outliers(df, threshold=1.5, in_columns=None, skip_columns=[]):\n",
    "    if in_columns is None:\n",
    "        in_columns = df.select_dtypes(np.number).columns\n",
    "    for column in in_columns:\n",
    "        if column not in skip_columns:\n",
    "            upper = np.percentile(df[column], 75)\n",
    "            lower = np.percentile(df[column], 25)\n",
    "            iqr = upper - lower\n",
    "            upper_limit = upper + threshold * iqr\n",
    "            lower_limit = lower - threshold * iqr\n",
    "            df = df[(df[column] > lower_limit) & (df[column] < upper_limit)]\n",
    "    return df"
   ]
  },
  {
   "cell_type": "markdown",
   "id": "2f65fe6c",
   "metadata": {},
   "source": [
    "reset dataframe 1 indexes so that X y will have same index values.\n",
    "df1.reset_index(drop = True, inplace = True)"
   ]
  },
  {
   "cell_type": "code",
   "execution_count": 10,
   "id": "5923d5f6",
   "metadata": {},
   "outputs": [],
   "source": [
    "# Applying the remove_outliers function\n",
    "df1 = remove_outliers(df1, threshold=1.5, in_columns=['Total Claim Amount', 'Customer Lifetime Value'])\n",
    "df1.reset_index(drop=True, inplace=True)\n",
    "\n",
    "# X-y split\n",
    "X = df1.drop([\"Total Claim Amount\"], axis=1)\n",
    "y = df1[\"Total Claim Amount\"]\n",
    "\n",
    "# Removing unnecessary columns\n",
    "X = X.drop(['Customer', 'Effective To Date'], axis=1)\n",
    "\n",
    "# Normalizing numerical variables\n",
    "scaler = StandardScaler()\n",
    "X_num = X.select_dtypes(np.number)\n",
    "scaler.fit(X_num)\n",
    "X_num_scaled = scaler.transform(X_num)\n",
    "\n",
    "# Converting numpy array to Pandas dataframe\n",
    "X_num_scaled = pd.DataFrame(X_num_scaled, columns=X_num.columns)\n",
    "\n",
    "# One-hot encoding for categorical variables\n",
    "X_cat = X.select_dtypes(include=['object'])\n",
    "X_cat = pd.get_dummies(X_cat)\n",
    "\n",
    "# Concatenating the numerical and categorical dataframes\n",
    "X_new = pd.concat([X_num_scaled, X_cat], axis=1)\n"
   ]
  },
  {
   "cell_type": "code",
   "execution_count": 11,
   "id": "979a5276",
   "metadata": {},
   "outputs": [
    {
     "name": "stdout",
     "output_type": "stream",
     "text": [
      "R2: 0.7856216391382385\n",
      "MSE: 8669.31480364487\n",
      "RMSE: 93.10915531592406\n",
      "MAE: 71.4010801754766\n"
     ]
    }
   ],
   "source": [
    "# Linear Regression Model\n",
    "model = LinearRegression()\n",
    "\n",
    "# Train-test split\n",
    "X_train, X_test, y_train, y_test = train_test_split(X_new, y, test_size=0.3, random_state=42)\n",
    "model.fit(X_train, y_train)\n",
    "\n",
    "# Making predictions\n",
    "y_pred = model.predict(X_test)\n",
    "\n",
    "# Calculating metrics\n",
    "r2 = r2_score(y_test, y_pred)\n",
    "mse = mean_squared_error(y_test, y_pred)\n",
    "rmse = np.sqrt(mse)\n",
    "mae = mean_absolute_error(y_test, y_pred)\n",
    "\n",
    "# Printing metrics\n",
    "print(f'R2: {r2}')\n",
    "print(f'MSE: {mse}')\n",
    "print(f'RMSE: {rmse}')\n",
    "print(f'MAE: {mae}')\n"
   ]
  },
  {
   "cell_type": "markdown",
   "id": "854254e3",
   "metadata": {},
   "source": [
    "### much better results than before"
   ]
  },
  {
   "cell_type": "markdown",
   "id": "d0c69978",
   "metadata": {},
   "source": [
    "- R2: 0.7856216391382385\n",
    "- MSE: 8669.31480364487\n",
    "- RMSE: 93.10915531592406\n",
    "- MAE: 71.4010801754766"
   ]
  },
  {
   "cell_type": "code",
   "execution_count": null,
   "id": "12b4b433",
   "metadata": {},
   "outputs": [],
   "source": []
  }
 ],
 "metadata": {
  "kernelspec": {
   "display_name": "Python 3 (ipykernel)",
   "language": "python",
   "name": "python3"
  },
  "language_info": {
   "codemirror_mode": {
    "name": "ipython",
    "version": 3
   },
   "file_extension": ".py",
   "mimetype": "text/x-python",
   "name": "python",
   "nbconvert_exporter": "python",
   "pygments_lexer": "ipython3",
   "version": "3.9.13"
  }
 },
 "nbformat": 4,
 "nbformat_minor": 5
}
